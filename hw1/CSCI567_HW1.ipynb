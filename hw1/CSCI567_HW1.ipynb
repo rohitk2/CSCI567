{
  "cells": [
    {
      "cell_type": "markdown",
      "source": [
        "**Nearest Neighbor Algorithm**"
      ],
      "metadata": {
        "id": "7PpJGqsOQqPd"
      }
    },
    {
      "cell_type": "code",
      "execution_count": null,
      "metadata": {
        "colab": {
          "base_uri": "https://localhost:8080/",
          "height": 206
        },
        "id": "i5NVxyT31eTj",
        "outputId": "f341902f-fdc1-4fff-8ddb-03861ff01f1b"
      },
      "outputs": [
        {
          "output_type": "execute_result",
          "data": {
            "text/html": [
              "\n",
              "  <div id=\"df-2621647e-7bbb-400f-a724-0c8fcc5db067\">\n",
              "    <div class=\"colab-df-container\">\n",
              "      <div>\n",
              "<style scoped>\n",
              "    .dataframe tbody tr th:only-of-type {\n",
              "        vertical-align: middle;\n",
              "    }\n",
              "\n",
              "    .dataframe tbody tr th {\n",
              "        vertical-align: top;\n",
              "    }\n",
              "\n",
              "    .dataframe thead th {\n",
              "        text-align: right;\n",
              "    }\n",
              "</style>\n",
              "<table border=\"1\" class=\"dataframe\">\n",
              "  <thead>\n",
              "    <tr style=\"text-align: right;\">\n",
              "      <th></th>\n",
              "      <th>0</th>\n",
              "      <th>1</th>\n",
              "      <th>2</th>\n",
              "      <th>3</th>\n",
              "      <th>4</th>\n",
              "      <th>5</th>\n",
              "      <th>6</th>\n",
              "      <th>7</th>\n",
              "      <th>8</th>\n",
              "      <th>9</th>\n",
              "    </tr>\n",
              "  </thead>\n",
              "  <tbody>\n",
              "    <tr>\n",
              "      <th>0</th>\n",
              "      <td>-1.568795</td>\n",
              "      <td>6.426093</td>\n",
              "      <td>-2.463448</td>\n",
              "      <td>7.883096</td>\n",
              "      <td>-2.552608</td>\n",
              "      <td>1.774121</td>\n",
              "      <td>6.553504</td>\n",
              "      <td>6.894775</td>\n",
              "      <td>-0.229678</td>\n",
              "      <td>11.779316</td>\n",
              "    </tr>\n",
              "    <tr>\n",
              "      <th>1</th>\n",
              "      <td>3.739630</td>\n",
              "      <td>-3.818181</td>\n",
              "      <td>6.775060</td>\n",
              "      <td>2.544445</td>\n",
              "      <td>-6.507856</td>\n",
              "      <td>6.411217</td>\n",
              "      <td>-9.281448</td>\n",
              "      <td>-8.907032</td>\n",
              "      <td>6.712267</td>\n",
              "      <td>0.724245</td>\n",
              "    </tr>\n",
              "    <tr>\n",
              "      <th>2</th>\n",
              "      <td>0.125430</td>\n",
              "      <td>-10.694078</td>\n",
              "      <td>8.719303</td>\n",
              "      <td>5.531750</td>\n",
              "      <td>-1.726748</td>\n",
              "      <td>3.315929</td>\n",
              "      <td>-6.070330</td>\n",
              "      <td>-9.718616</td>\n",
              "      <td>-5.481964</td>\n",
              "      <td>-2.489470</td>\n",
              "    </tr>\n",
              "    <tr>\n",
              "      <th>3</th>\n",
              "      <td>-2.648598</td>\n",
              "      <td>6.867547</td>\n",
              "      <td>-2.638430</td>\n",
              "      <td>9.740201</td>\n",
              "      <td>-4.899904</td>\n",
              "      <td>1.700083</td>\n",
              "      <td>6.947839</td>\n",
              "      <td>6.896802</td>\n",
              "      <td>-1.516219</td>\n",
              "      <td>8.090070</td>\n",
              "    </tr>\n",
              "    <tr>\n",
              "      <th>4</th>\n",
              "      <td>-3.999651</td>\n",
              "      <td>9.109651</td>\n",
              "      <td>5.996918</td>\n",
              "      <td>8.331642</td>\n",
              "      <td>-8.324895</td>\n",
              "      <td>5.918928</td>\n",
              "      <td>1.177732</td>\n",
              "      <td>10.291503</td>\n",
              "      <td>3.078729</td>\n",
              "      <td>-8.408503</td>\n",
              "    </tr>\n",
              "  </tbody>\n",
              "</table>\n",
              "</div>\n",
              "      <button class=\"colab-df-convert\" onclick=\"convertToInteractive('df-2621647e-7bbb-400f-a724-0c8fcc5db067')\"\n",
              "              title=\"Convert this dataframe to an interactive table.\"\n",
              "              style=\"display:none;\">\n",
              "        \n",
              "  <svg xmlns=\"http://www.w3.org/2000/svg\" height=\"24px\"viewBox=\"0 0 24 24\"\n",
              "       width=\"24px\">\n",
              "    <path d=\"M0 0h24v24H0V0z\" fill=\"none\"/>\n",
              "    <path d=\"M18.56 5.44l.94 2.06.94-2.06 2.06-.94-2.06-.94-.94-2.06-.94 2.06-2.06.94zm-11 1L8.5 8.5l.94-2.06 2.06-.94-2.06-.94L8.5 2.5l-.94 2.06-2.06.94zm10 10l.94 2.06.94-2.06 2.06-.94-2.06-.94-.94-2.06-.94 2.06-2.06.94z\"/><path d=\"M17.41 7.96l-1.37-1.37c-.4-.4-.92-.59-1.43-.59-.52 0-1.04.2-1.43.59L10.3 9.45l-7.72 7.72c-.78.78-.78 2.05 0 2.83L4 21.41c.39.39.9.59 1.41.59.51 0 1.02-.2 1.41-.59l7.78-7.78 2.81-2.81c.8-.78.8-2.07 0-2.86zM5.41 20L4 18.59l7.72-7.72 1.47 1.35L5.41 20z\"/>\n",
              "  </svg>\n",
              "      </button>\n",
              "      \n",
              "  <style>\n",
              "    .colab-df-container {\n",
              "      display:flex;\n",
              "      flex-wrap:wrap;\n",
              "      gap: 12px;\n",
              "    }\n",
              "\n",
              "    .colab-df-convert {\n",
              "      background-color: #E8F0FE;\n",
              "      border: none;\n",
              "      border-radius: 50%;\n",
              "      cursor: pointer;\n",
              "      display: none;\n",
              "      fill: #1967D2;\n",
              "      height: 32px;\n",
              "      padding: 0 0 0 0;\n",
              "      width: 32px;\n",
              "    }\n",
              "\n",
              "    .colab-df-convert:hover {\n",
              "      background-color: #E2EBFA;\n",
              "      box-shadow: 0px 1px 2px rgba(60, 64, 67, 0.3), 0px 1px 3px 1px rgba(60, 64, 67, 0.15);\n",
              "      fill: #174EA6;\n",
              "    }\n",
              "\n",
              "    [theme=dark] .colab-df-convert {\n",
              "      background-color: #3B4455;\n",
              "      fill: #D2E3FC;\n",
              "    }\n",
              "\n",
              "    [theme=dark] .colab-df-convert:hover {\n",
              "      background-color: #434B5C;\n",
              "      box-shadow: 0px 1px 3px 1px rgba(0, 0, 0, 0.15);\n",
              "      filter: drop-shadow(0px 1px 2px rgba(0, 0, 0, 0.3));\n",
              "      fill: #FFFFFF;\n",
              "    }\n",
              "  </style>\n",
              "\n",
              "      <script>\n",
              "        const buttonEl =\n",
              "          document.querySelector('#df-2621647e-7bbb-400f-a724-0c8fcc5db067 button.colab-df-convert');\n",
              "        buttonEl.style.display =\n",
              "          google.colab.kernel.accessAllowed ? 'block' : 'none';\n",
              "\n",
              "        async function convertToInteractive(key) {\n",
              "          const element = document.querySelector('#df-2621647e-7bbb-400f-a724-0c8fcc5db067');\n",
              "          const dataTable =\n",
              "            await google.colab.kernel.invokeFunction('convertToInteractive',\n",
              "                                                     [key], {});\n",
              "          if (!dataTable) return;\n",
              "\n",
              "          const docLinkHtml = 'Like what you see? Visit the ' +\n",
              "            '<a target=\"_blank\" href=https://colab.research.google.com/notebooks/data_table.ipynb>data table notebook</a>'\n",
              "            + ' to learn more about interactive tables.';\n",
              "          element.innerHTML = '';\n",
              "          dataTable['output_type'] = 'display_data';\n",
              "          await google.colab.output.renderOutput(dataTable, element);\n",
              "          const docLink = document.createElement('div');\n",
              "          docLink.innerHTML = docLinkHtml;\n",
              "          element.appendChild(docLink);\n",
              "        }\n",
              "      </script>\n",
              "    </div>\n",
              "  </div>\n",
              "  "
            ],
            "text/plain": [
              "          0          1         2  ...          7         8          9\n",
              "0 -1.568795   6.426093 -2.463448  ...   6.894775 -0.229678  11.779316\n",
              "1  3.739630  -3.818181  6.775060  ...  -8.907032  6.712267   0.724245\n",
              "2  0.125430 -10.694078  8.719303  ...  -9.718616 -5.481964  -2.489470\n",
              "3 -2.648598   6.867547 -2.638430  ...   6.896802 -1.516219   8.090070\n",
              "4 -3.999651   9.109651  5.996918  ...  10.291503  3.078729  -8.408503\n",
              "\n",
              "[5 rows x 10 columns]"
            ]
          },
          "metadata": {},
          "execution_count": 43
        }
      ],
      "source": [
        "import pandas as pd\n",
        "\n",
        "Train_X = pd.read_csv('https://raw.githubusercontent.com/rohitk2/CSCI567/main/hw1/training_samples.txt', header=None, sep=\" \")\n",
        "Train_Y = pd.read_csv('https://raw.githubusercontent.com/rohitk2/CSCI567/main/hw1/training_labels.txt', header=None)\n",
        "Train_Y.columns = [\"category\"]\n",
        "\n",
        "Test_X = pd.read_csv('https://raw.githubusercontent.com/rohitk2/CSCI567/main/hw1/testing_samples.txt', header=None, sep=\" \")\n",
        "Test_X.head()"
      ]
    },
    {
      "cell_type": "code",
      "execution_count": 58,
      "metadata": {
        "id": "Q8ddeJMA_ZH1"
      },
      "outputs": [],
      "source": [
        "import heapq\n",
        "def find_euclidian_distance(arr1, arr2) :\n",
        "  euclidian = 0\n",
        "  for ind in range(len(arr1)) :\n",
        "    euclidian += ( arr1[ind] - arr2[ind] )**2\n",
        "  return euclidian**0.5\n",
        "\n",
        "def get_nearest_neighbors(k, test_sample, Train_X) :\n",
        "  min_heap = []\n",
        "  for index, row in Train_X.iterrows():\n",
        "    heapq.heappush(min_heap, (find_euclidian_distance(row, test_sample), index)  )\n",
        "  \n",
        "  k_neighbors = []\n",
        "  for _ in range(k) :\n",
        "    k_neighbors.append( heapq.heappop(min_heap)[1] )\n",
        "  return k_neighbors\n",
        "\n",
        "\n",
        "def get_label(Train_X, Train_Y, test_sample, k=5) :\n",
        "  arr_size = Train_Y[\"category\"].max() + 1 \n",
        "  category_arr = [0 for i in range(arr_size)]\n",
        "  indices = get_nearest_neighbors(k, test_sample, Train_X)\n",
        "  #print(indices)\n",
        "  for ind in indices :\n",
        "    #print(ind, end=\":\")\n",
        "    #print(Train_Y.iloc[ind][0], end=\" \")\n",
        "    category_arr[ Train_Y.iloc[ind][0] ] += 1\n",
        "  #print()\n",
        "  return category_arr.index( max(category_arr) ) \n",
        "\n",
        "def get_test_labels(Test_X, Train_X, Train_Y, k=5) :\n",
        "  test_labels = []\n",
        "  for i in range(len(Test_X)) :\n",
        "    test_labels.append( get_label(Train_X, Train_Y, Train_X.iloc[i], k=5) )\n",
        "  return test_labels"
      ]
    },
    {
      "cell_type": "markdown",
      "source": [
        "**Linear Regression**\n",
        "\n",
        "Used equations from youtube video:\n",
        "https://www.youtube.com/watch?v=P8hT5nDai6A"
      ],
      "metadata": {
        "id": "_C9xF0riQ5in"
      }
    },
    {
      "cell_type": "code",
      "source": [
        "points_2d = pd.read_csv(\"https://raw.githubusercontent.com/rohitk2/CSCI567/main/hw1/2D_points.txt\", sep=\" \", header=None)\n",
        "points_2d.columns = [\"X\", \"Y\"]"
      ],
      "metadata": {
        "id": "qpStdcBST6eZ"
      },
      "execution_count": 60,
      "outputs": []
    },
    {
      "cell_type": "code",
      "source": [
        "sum_x = points_2d[\"X\"].sum()\n",
        "sum_y = points_2d[\"Y\"].sum()\n",
        "sum_x2 = sum(points_2d[\"X\"]**2)\n",
        "sum_xy = sum(points_2d[\"X\"]*points_2d[\"Y\"])\n",
        "n = len(points_2d)\n",
        "#y = mx + b FORM\n",
        "\n",
        "m = (n*sum_xy - sum_x*sum_y) / (n*sum_x2 - sum_x**2)\n",
        "b = (sum_y - m*sum_x) / n\n",
        "\n",
        "m, b"
      ],
      "metadata": {
        "colab": {
          "base_uri": "https://localhost:8080/"
        },
        "id": "m6dXRFVrQ-SS",
        "outputId": "1241bad9-6a2c-4e01-b070-bc34c9cae6b2"
      },
      "execution_count": 70,
      "outputs": [
        {
          "output_type": "execute_result",
          "data": {
            "text/plain": [
              "(0.8232792462226024, 1.0163578460906393)"
            ]
          },
          "metadata": {},
          "execution_count": 70
        }
      ]
    },
    {
      "cell_type": "code",
      "source": [
        "import matplotlib.pyplot as plt\n",
        "import numpy as np\n",
        "\n",
        "plt.scatter(points_2d[\"X\"], points_2d[\"Y\"], marker=\".\")\n",
        "x = np.linspace(0,20,100)\n",
        "y = m*x + b\n",
        "plt.plot(x, y, label=\"our line\", color='red')"
      ],
      "metadata": {
        "colab": {
          "base_uri": "https://localhost:8080/",
          "height": 282
        },
        "id": "FVVKP8i_Vihm",
        "outputId": "b0fd74ab-b601-4ecc-a46a-3df59d359542"
      },
      "execution_count": 77,
      "outputs": [
        {
          "output_type": "execute_result",
          "data": {
            "text/plain": [
              "[<matplotlib.lines.Line2D at 0x7f150dbb1650>]"
            ]
          },
          "metadata": {},
          "execution_count": 77
        },
        {
          "output_type": "display_data",
          "data": {
            "image/png": "[encoded data removed]",
            "text/plain": [
              "<Figure size 432x288 with 1 Axes>"
            ]
          },
          "metadata": {
            "needs_background": "light"
          }
        }
      ]
    }
  ],
  "metadata": {
    "colab": {
      "collapsed_sections": [],
      "name": "CSCI567_HW1.ipynb",
      "provenance": []
    },
    "kernelspec": {
      "display_name": "Python 3",
      "name": "python3"
    },
    "language_info": {
      "name": "python"
    }
  },
  "nbformat": 4,
  "nbformat_minor": 0
}